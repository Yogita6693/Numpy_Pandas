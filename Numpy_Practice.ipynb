{
  "nbformat": 4,
  "nbformat_minor": 0,
  "metadata": {
    "colab": {
      "name": "Numpy Practice.ipynb",
      "provenance": [],
      "collapsed_sections": [],
      "authorship_tag": "ABX9TyMZkOCL45/QMnBvqBIP/dgO",
      "include_colab_link": true
    },
    "kernelspec": {
      "name": "python3",
      "display_name": "Python 3"
    }
  },
  "cells": [
    {
      "cell_type": "markdown",
      "metadata": {
        "id": "view-in-github",
        "colab_type": "text"
      },
      "source": [
        "<a href=\"https://colab.research.google.com/github/Yogita6693/Numpy_Pandas/blob/main/Numpy_Practice.ipynb\" target=\"_parent\"><img src=\"https://colab.research.google.com/assets/colab-badge.svg\" alt=\"Open In Colab\"/></a>"
      ]
    },
    {
      "cell_type": "code",
      "metadata": {
        "colab": {
          "base_uri": "https://localhost:8080/"
        },
        "id": "wSQ3pXVkLvpl",
        "outputId": "d6bb0551-5dfa-4f3f-8e26-900cde08c915"
      },
      "source": [
        "p = (3, 0, 1, 5, 7, 2)\n",
        "try:\n",
        "   p[6] = 9\n",
        "except:\n",
        "   print(\"Error occured\")\n",
        "finally:\n",
        "  print(\"After error occured\")"
      ],
      "execution_count": 25,
      "outputs": [
        {
          "output_type": "stream",
          "text": [
            "Error occured\n",
            "After error occured\n"
          ],
          "name": "stdout"
        }
      ]
    },
    {
      "cell_type": "code",
      "metadata": {
        "colab": {
          "base_uri": "https://localhost:8080/"
        },
        "id": "0DuHKSLr4VUw",
        "outputId": "8a358eb1-bc46-4b13-8948-798be9e9c8a8"
      },
      "source": [
        "def evenN(number):\n",
        "  if number%2==0:\n",
        "    return number\n",
        "\n",
        "arr=range(50)\n",
        "even=list(filter(evenN,arr))\n",
        "print(even)\n"
      ],
      "execution_count": null,
      "outputs": [
        {
          "output_type": "stream",
          "text": [
            "[2, 4, 6, 8, 10, 12, 14, 16, 18, 20, 22, 24, 26, 28, 30, 32, 34, 36, 38, 40, 42, 44, 46, 48]\n"
          ],
          "name": "stdout"
        }
      ]
    },
    {
      "cell_type": "code",
      "metadata": {
        "colab": {
          "base_uri": "https://localhost:8080/"
        },
        "id": "lHNcRQpNnfDL",
        "outputId": "da4bc79f-232c-488e-d945-fbf2c550cde3"
      },
      "source": [
        "list = [1,2,3,4,5,6]\n",
        "print(list)\n",
        "tuple = tuple(list)\n",
        "tuple\n"
      ],
      "execution_count": 2,
      "outputs": [
        {
          "output_type": "stream",
          "text": [
            "[1, 2, 3, 4, 5, 6]\n"
          ],
          "name": "stdout"
        },
        {
          "output_type": "execute_result",
          "data": {
            "text/plain": [
              "(1, 2, 3, 4, 5, 6)"
            ]
          },
          "metadata": {
            "tags": []
          },
          "execution_count": 2
        }
      ]
    },
    {
      "cell_type": "code",
      "metadata": {
        "colab": {
          "base_uri": "https://localhost:8080/"
        },
        "id": "EA8Io2cln0TK",
        "outputId": "0024bd92-fe90-4e82-9367-9bea02e54aa1"
      },
      "source": [
        "import numpy as np\n",
        "list = [1,2,3,4,5,6]\n",
        "arr = np.array(list)\n",
        "print(arr)\n",
        "print(arr.ndim)\n",
        "arr.shape"
      ],
      "execution_count": 9,
      "outputs": [
        {
          "output_type": "stream",
          "text": [
            "[1 2 3 4 5 6]\n",
            "1\n"
          ],
          "name": "stdout"
        },
        {
          "output_type": "execute_result",
          "data": {
            "text/plain": [
              "(6,)"
            ]
          },
          "metadata": {
            "tags": []
          },
          "execution_count": 9
        }
      ]
    },
    {
      "cell_type": "code",
      "metadata": {
        "colab": {
          "base_uri": "https://localhost:8080/"
        },
        "id": "Tj09YgftoZ7d",
        "outputId": "804139c8-5806-4c78-eda8-03771212cc34"
      },
      "source": [
        "arr = np.arange(10)\n",
        "print(arr)\n"
      ],
      "execution_count": 13,
      "outputs": [
        {
          "output_type": "stream",
          "text": [
            "[0 1 2 3 4 5 6 7 8 9]\n"
          ],
          "name": "stdout"
        }
      ]
    },
    {
      "cell_type": "code",
      "metadata": {
        "colab": {
          "base_uri": "https://localhost:8080/"
        },
        "id": "HgU15BNio80R",
        "outputId": "da7af52d-47d2-4bba-d528-8e7c78731777"
      },
      "source": [
        "ar = arr+2\n",
        "ar"
      ],
      "execution_count": 15,
      "outputs": [
        {
          "output_type": "execute_result",
          "data": {
            "text/plain": [
              "array([ 2,  3,  4,  5,  6,  7,  8,  9, 10, 11])"
            ]
          },
          "metadata": {
            "tags": []
          },
          "execution_count": 15
        }
      ]
    },
    {
      "cell_type": "code",
      "metadata": {
        "colab": {
          "base_uri": "https://localhost:8080/"
        },
        "id": "Slio_JixpnKm",
        "outputId": "84d9c558-f72f-419d-b246-5819da3ff89a"
      },
      "source": [
        "np.zeros(4)"
      ],
      "execution_count": 18,
      "outputs": [
        {
          "output_type": "execute_result",
          "data": {
            "text/plain": [
              "array([0., 0., 0., 0.])"
            ]
          },
          "metadata": {
            "tags": []
          },
          "execution_count": 18
        }
      ]
    },
    {
      "cell_type": "code",
      "metadata": {
        "colab": {
          "base_uri": "https://localhost:8080/"
        },
        "id": "c_6TqENxp4wJ",
        "outputId": "d81ce437-e05b-4c78-a0c7-4b310f218965"
      },
      "source": [
        "np.zeros([4,2])"
      ],
      "execution_count": 20,
      "outputs": [
        {
          "output_type": "execute_result",
          "data": {
            "text/plain": [
              "array([[0., 0.],\n",
              "       [0., 0.],\n",
              "       [0., 0.],\n",
              "       [0., 0.]])"
            ]
          },
          "metadata": {
            "tags": []
          },
          "execution_count": 20
        }
      ]
    },
    {
      "cell_type": "code",
      "metadata": {
        "colab": {
          "base_uri": "https://localhost:8080/"
        },
        "id": "PV_AjwJ4qHvC",
        "outputId": "17fafcff-0d66-41d3-d2fc-37431d004e2b"
      },
      "source": [
        "np.zeros([3,3])"
      ],
      "execution_count": 21,
      "outputs": [
        {
          "output_type": "execute_result",
          "data": {
            "text/plain": [
              "array([[0., 0., 0.],\n",
              "       [0., 0., 0.],\n",
              "       [0., 0., 0.]])"
            ]
          },
          "metadata": {
            "tags": []
          },
          "execution_count": 21
        }
      ]
    },
    {
      "cell_type": "code",
      "metadata": {
        "colab": {
          "base_uri": "https://localhost:8080/"
        },
        "id": "_Qfu4HIcqNQZ",
        "outputId": "c8b1b9f4-b823-4bea-8a41-133f06b2dfbc"
      },
      "source": [
        "print(np.linspace(0,10,11))\n",
        "np.linspace(0,5,10)"
      ],
      "execution_count": 29,
      "outputs": [
        {
          "output_type": "stream",
          "text": [
            "[ 0.  1.  2.  3.  4.  5.  6.  7.  8.  9. 10.]\n"
          ],
          "name": "stdout"
        },
        {
          "output_type": "execute_result",
          "data": {
            "text/plain": [
              "array([0.        , 0.55555556, 1.11111111, 1.66666667, 2.22222222,\n",
              "       2.77777778, 3.33333333, 3.88888889, 4.44444444, 5.        ])"
            ]
          },
          "metadata": {
            "tags": []
          },
          "execution_count": 29
        }
      ]
    },
    {
      "cell_type": "code",
      "metadata": {
        "colab": {
          "base_uri": "https://localhost:8080/"
        },
        "id": "2dSlGVi-v-vZ",
        "outputId": "7faae1c7-e9f3-4d23-8fb6-1055771d6c3b"
      },
      "source": [
        "np.eye(3)"
      ],
      "execution_count": 32,
      "outputs": [
        {
          "output_type": "execute_result",
          "data": {
            "text/plain": [
              "array([[1., 0., 0.],\n",
              "       [0., 1., 0.],\n",
              "       [0., 0., 1.]])"
            ]
          },
          "metadata": {
            "tags": []
          },
          "execution_count": 32
        }
      ]
    },
    {
      "cell_type": "code",
      "metadata": {
        "colab": {
          "base_uri": "https://localhost:8080/"
        },
        "id": "7vZnOSoiwq0f",
        "outputId": "49d24217-0f98-4dc6-9397-fc78cc4f4dd0"
      },
      "source": [
        "np.random.rand(5)"
      ],
      "execution_count": 35,
      "outputs": [
        {
          "output_type": "execute_result",
          "data": {
            "text/plain": [
              "array([0.80307363, 0.60388685, 0.08495364, 0.32976059, 0.83291336])"
            ]
          },
          "metadata": {
            "tags": []
          },
          "execution_count": 35
        }
      ]
    },
    {
      "cell_type": "code",
      "metadata": {
        "colab": {
          "base_uri": "https://localhost:8080/"
        },
        "id": "ese6ZR0kAyb1",
        "outputId": "f128e666-fb3f-4d9c-958c-9a50d794756c"
      },
      "source": [
        "np.random.randn()"
      ],
      "execution_count": 37,
      "outputs": [
        {
          "output_type": "execute_result",
          "data": {
            "text/plain": [
              "array([[-0.34850872, -0.25537721],\n",
              "       [-0.32582554, -0.15464759]])"
            ]
          },
          "metadata": {
            "tags": []
          },
          "execution_count": 37
        }
      ]
    },
    {
      "cell_type": "code",
      "metadata": {
        "colab": {
          "base_uri": "https://localhost:8080/"
        },
        "id": "AgXqaMYTBf9e",
        "outputId": "8ce4d989-9c79-46aa-ed45-467e1b2cae42"
      },
      "source": [
        "rand = np.random.rand(16)\n",
        "print(rand)\n",
        "rand.reshape(1,16)\n",
        "rand.reshape(4,4)\n",
        "rand.reshape(2,2,2,2)"
      ],
      "execution_count": 42,
      "outputs": [
        {
          "output_type": "stream",
          "text": [
            "[0.09229671 0.35619251 0.10672569 0.99149059 0.21074919 0.4405147\n",
            " 0.61848987 0.06248399 0.03834969 0.0190499  0.97561004 0.83281369\n",
            " 0.9061612  0.31392125 0.24921206 0.99210863]\n"
          ],
          "name": "stdout"
        },
        {
          "output_type": "execute_result",
          "data": {
            "text/plain": [
              "array([[[[0.09229671, 0.35619251],\n",
              "         [0.10672569, 0.99149059]],\n",
              "\n",
              "        [[0.21074919, 0.4405147 ],\n",
              "         [0.61848987, 0.06248399]]],\n",
              "\n",
              "\n",
              "       [[[0.03834969, 0.0190499 ],\n",
              "         [0.97561004, 0.83281369]],\n",
              "\n",
              "        [[0.9061612 , 0.31392125],\n",
              "         [0.24921206, 0.99210863]]]])"
            ]
          },
          "metadata": {
            "tags": []
          },
          "execution_count": 42
        }
      ]
    },
    {
      "cell_type": "code",
      "metadata": {
        "colab": {
          "base_uri": "https://localhost:8080/"
        },
        "id": "j1tnduUjCu5a",
        "outputId": "54371248-6317-4fcc-b501-4533b7287bf9"
      },
      "source": [
        "arr = np.arange(2,7)\n",
        "arr"
      ],
      "execution_count": 44,
      "outputs": [
        {
          "output_type": "execute_result",
          "data": {
            "text/plain": [
              "array([2, 3, 4, 5, 6])"
            ]
          },
          "metadata": {
            "tags": []
          },
          "execution_count": 44
        }
      ]
    },
    {
      "cell_type": "code",
      "metadata": {
        "colab": {
          "base_uri": "https://localhost:8080/"
        },
        "id": "51ymhwKJG03r",
        "outputId": "2ecb263c-f3f1-4aef-92cb-6a0bd6cbc699"
      },
      "source": [
        "arr>2"
      ],
      "execution_count": 47,
      "outputs": [
        {
          "output_type": "execute_result",
          "data": {
            "text/plain": [
              "array([False,  True,  True,  True,  True])"
            ]
          },
          "metadata": {
            "tags": []
          },
          "execution_count": 47
        }
      ]
    },
    {
      "cell_type": "code",
      "metadata": {
        "colab": {
          "base_uri": "https://localhost:8080/"
        },
        "id": "kU60-3oVHAxU",
        "outputId": "761f7059-03e8-4c8c-97ce-34badaf289b9"
      },
      "source": [
        "arr[[False,  True,  True,  True,  True]]"
      ],
      "execution_count": 49,
      "outputs": [
        {
          "output_type": "execute_result",
          "data": {
            "text/plain": [
              "array([3, 4, 5, 6])"
            ]
          },
          "metadata": {
            "tags": []
          },
          "execution_count": 49
        }
      ]
    },
    {
      "cell_type": "code",
      "metadata": {
        "colab": {
          "base_uri": "https://localhost:8080/"
        },
        "id": "HdMixGPpHjG6",
        "outputId": "29a45455-2050-41d8-8efe-1331b18ed289"
      },
      "source": [
        "arrr = np.arange(2,10)\n",
        "arrr[arrr>2]"
      ],
      "execution_count": 54,
      "outputs": [
        {
          "output_type": "execute_result",
          "data": {
            "text/plain": [
              "array([3, 4, 5, 6, 7, 8, 9])"
            ]
          },
          "metadata": {
            "tags": []
          },
          "execution_count": 54
        }
      ]
    },
    {
      "cell_type": "code",
      "metadata": {
        "colab": {
          "base_uri": "https://localhost:8080/"
        },
        "id": "HV9sDkszLJzg",
        "outputId": "89d310f0-3c7c-4fce-d6ec-57e6e0e5ba7f"
      },
      "source": [
        "arr = np.arange(1,12)\n",
        "arr"
      ],
      "execution_count": 58,
      "outputs": [
        {
          "output_type": "execute_result",
          "data": {
            "text/plain": [
              "array([ 1,  2,  3,  4,  5,  6,  7,  8,  9, 10, 11])"
            ]
          },
          "metadata": {
            "tags": []
          },
          "execution_count": 58
        }
      ]
    },
    {
      "cell_type": "code",
      "metadata": {
        "colab": {
          "base_uri": "https://localhost:8080/"
        },
        "id": "owNp3QXBS1Gs",
        "outputId": "05a649dc-d9c0-4737-f807-f406c3688144"
      },
      "source": [
        "arr[0] = 2\n",
        "arr[4] = 2\n",
        "arr[8] = 2\n",
        "arr"
      ],
      "execution_count": 59,
      "outputs": [
        {
          "output_type": "execute_result",
          "data": {
            "text/plain": [
              "array([ 2,  2,  3,  4,  2,  6,  7,  8,  2, 10, 11])"
            ]
          },
          "metadata": {
            "tags": []
          },
          "execution_count": 59
        }
      ]
    },
    {
      "cell_type": "code",
      "metadata": {
        "colab": {
          "base_uri": "https://localhost:8080/"
        },
        "id": "fasavtfZS-oc",
        "outputId": "cd9cb477-0796-4bf5-8a42-5f4cd21c1ff5"
      },
      "source": [
        "arr.min()"
      ],
      "execution_count": 60,
      "outputs": [
        {
          "output_type": "execute_result",
          "data": {
            "text/plain": [
              "2"
            ]
          },
          "metadata": {
            "tags": []
          },
          "execution_count": 60
        }
      ]
    },
    {
      "cell_type": "code",
      "metadata": {
        "colab": {
          "base_uri": "https://localhost:8080/"
        },
        "id": "AdX2ZY90THBO",
        "outputId": "6e67347c-08b7-4935-eee4-f6a69b273db4"
      },
      "source": [
        "len(arr)"
      ],
      "execution_count": 61,
      "outputs": [
        {
          "output_type": "execute_result",
          "data": {
            "text/plain": [
              "11"
            ]
          },
          "metadata": {
            "tags": []
          },
          "execution_count": 61
        }
      ]
    },
    {
      "cell_type": "code",
      "metadata": {
        "colab": {
          "base_uri": "https://localhost:8080/"
        },
        "id": "F-c6cOzGTeor",
        "outputId": "e7f0e4eb-3a00-485c-82a8-12cea3521146"
      },
      "source": [
        "arr[: :-1]"
      ],
      "execution_count": 65,
      "outputs": [
        {
          "output_type": "execute_result",
          "data": {
            "text/plain": [
              "array([11, 10,  2,  8,  7,  6,  2,  4,  3,  2,  2])"
            ]
          },
          "metadata": {
            "tags": []
          },
          "execution_count": 65
        }
      ]
    },
    {
      "cell_type": "code",
      "metadata": {
        "colab": {
          "base_uri": "https://localhost:8080/"
        },
        "id": "2QGPUhr-T2d_",
        "outputId": "73c822ac-871f-423d-9856-190b329545fe"
      },
      "source": [
        "arr[: :-1].argmin()"
      ],
      "execution_count": 66,
      "outputs": [
        {
          "output_type": "execute_result",
          "data": {
            "text/plain": [
              "2"
            ]
          },
          "metadata": {
            "tags": []
          },
          "execution_count": 66
        }
      ]
    },
    {
      "cell_type": "code",
      "metadata": {
        "colab": {
          "base_uri": "https://localhost:8080/"
        },
        "id": "FcQalKrGT4eh",
        "outputId": "f6f36c0c-b84b-451b-efc4-4241fcdf6da1"
      },
      "source": [
        "len(arr)-arr[: :-1].argmin()"
      ],
      "execution_count": 71,
      "outputs": [
        {
          "output_type": "execute_result",
          "data": {
            "text/plain": [
              "9"
            ]
          },
          "metadata": {
            "tags": []
          },
          "execution_count": 71
        }
      ]
    },
    {
      "cell_type": "code",
      "metadata": {
        "colab": {
          "base_uri": "https://localhost:8080/"
        },
        "id": "-kQEB01-gV1D",
        "outputId": "0f3c6eef-a1d7-432c-bd5b-ff6721f605c2"
      },
      "source": [
        "np.where(arr == arr.min())"
      ],
      "execution_count": 74,
      "outputs": [
        {
          "output_type": "execute_result",
          "data": {
            "text/plain": [
              "(array([0, 1, 4, 8]),)"
            ]
          },
          "metadata": {
            "tags": []
          },
          "execution_count": 74
        }
      ]
    },
    {
      "cell_type": "code",
      "metadata": {
        "colab": {
          "base_uri": "https://localhost:8080/"
        },
        "id": "sYlzV60EhSO4",
        "outputId": "6259f1c6-8127-4a9a-d29e-510e052c6ae1"
      },
      "source": [
        "np.where(arr == arr.min())[0]"
      ],
      "execution_count": 76,
      "outputs": [
        {
          "output_type": "execute_result",
          "data": {
            "text/plain": [
              "array([0, 1, 4, 8])"
            ]
          },
          "metadata": {
            "tags": []
          },
          "execution_count": 76
        }
      ]
    },
    {
      "cell_type": "code",
      "metadata": {
        "colab": {
          "base_uri": "https://localhost:8080/"
        },
        "id": "mf7Aw-CmhepU",
        "outputId": "70cc023f-2b11-4fe9-8d21-d6cd4ca1867a"
      },
      "source": [
        "np.where(arr == arr.min())[0][-1]"
      ],
      "execution_count": 77,
      "outputs": [
        {
          "output_type": "execute_result",
          "data": {
            "text/plain": [
              "8"
            ]
          },
          "metadata": {
            "tags": []
          },
          "execution_count": 77
        }
      ]
    },
    {
      "cell_type": "code",
      "metadata": {
        "colab": {
          "base_uri": "https://localhost:8080/"
        },
        "id": "Wu-n57dsh-Bf",
        "outputId": "e38bcc11-6403-494c-bfa0-21273e40d9f1"
      },
      "source": [
        "print(arr)\n",
        "print(arr.max())\n",
        "print(np.argmax(arr))"
      ],
      "execution_count": 78,
      "outputs": [
        {
          "output_type": "stream",
          "text": [
            "[ 2  2  3  4  2  6  7  8  2 10 11]\n",
            "11\n",
            "10\n"
          ],
          "name": "stdout"
        }
      ]
    },
    {
      "cell_type": "code",
      "metadata": {
        "colab": {
          "base_uri": "https://localhost:8080/"
        },
        "id": "G1STO8mZiXGs",
        "outputId": "f0cf77e4-6b06-4aac-c4ac-684e650679c7"
      },
      "source": [
        "arr = np.arange(1,17)\n",
        "print(arr)\n",
        "arr_2d = arr.reshape(4,4)\n",
        "print(arr_2d)\n",
        "arr_1d = arr_2d.flatten()\n",
        "print(arr_1d)"
      ],
      "execution_count": 84,
      "outputs": [
        {
          "output_type": "stream",
          "text": [
            "[ 1  2  3  4  5  6  7  8  9 10 11 12 13 14 15 16]\n",
            "[[ 1  2  3  4]\n",
            " [ 5  6  7  8]\n",
            " [ 9 10 11 12]\n",
            " [13 14 15 16]]\n",
            "[ 1  2  3  4  5  6  7  8  9 10 11 12 13 14 15 16]\n"
          ],
          "name": "stdout"
        }
      ]
    },
    {
      "cell_type": "code",
      "metadata": {
        "colab": {
          "base_uri": "https://localhost:8080/"
        },
        "id": "Y-M3OCq-yxhL",
        "outputId": "751f3503-83c0-46c7-8cc6-a5e748a052bd"
      },
      "source": [
        "print(arr_2d)\n",
        "arr_2d.transpose()"
      ],
      "execution_count": 86,
      "outputs": [
        {
          "output_type": "stream",
          "text": [
            "[[ 1  2  3  4]\n",
            " [ 5  6  7  8]\n",
            " [ 9 10 11 12]\n",
            " [13 14 15 16]]\n"
          ],
          "name": "stdout"
        },
        {
          "output_type": "execute_result",
          "data": {
            "text/plain": [
              "array([[ 1,  5,  9, 13],\n",
              "       [ 2,  6, 10, 14],\n",
              "       [ 3,  7, 11, 15],\n",
              "       [ 4,  8, 12, 16]])"
            ]
          },
          "metadata": {
            "tags": []
          },
          "execution_count": 86
        }
      ]
    },
    {
      "cell_type": "code",
      "metadata": {
        "colab": {
          "base_uri": "https://localhost:8080/"
        },
        "id": "enJdKmlVzNcx",
        "outputId": "21ba4e20-4360-439c-986d-e853a0904703"
      },
      "source": [
        "arr1 = np.random.rand(2,4)\n",
        "arr2 = np.random.rand(2,4)\n",
        "print(arr1)\n",
        "print(\"-----------\")\n",
        "print(arr2)"
      ],
      "execution_count": 89,
      "outputs": [
        {
          "output_type": "stream",
          "text": [
            "[[0.25014044 0.96103718 0.93944872 0.4455129 ]\n",
            " [0.62652699 0.82727707 0.5825983  0.55727089]]\n",
            "-----------\n",
            "[[0.42014287 0.52069136 0.31552449 0.57794073]\n",
            " [0.7201526  0.75112906 0.35645699 0.12847401]]\n"
          ],
          "name": "stdout"
        }
      ]
    },
    {
      "cell_type": "code",
      "metadata": {
        "colab": {
          "base_uri": "https://localhost:8080/"
        },
        "id": "ytO85hbjztvy",
        "outputId": "aa520785-65c0-49cd-c4ce-b4644c91998a"
      },
      "source": [
        "np.concatenate((arr1,arr2),axis=0)"
      ],
      "execution_count": 90,
      "outputs": [
        {
          "output_type": "execute_result",
          "data": {
            "text/plain": [
              "array([[0.25014044, 0.96103718, 0.93944872, 0.4455129 ],\n",
              "       [0.62652699, 0.82727707, 0.5825983 , 0.55727089],\n",
              "       [0.42014287, 0.52069136, 0.31552449, 0.57794073],\n",
              "       [0.7201526 , 0.75112906, 0.35645699, 0.12847401]])"
            ]
          },
          "metadata": {
            "tags": []
          },
          "execution_count": 90
        }
      ]
    },
    {
      "cell_type": "code",
      "metadata": {
        "colab": {
          "base_uri": "https://localhost:8080/"
        },
        "id": "CfxoUGOl0Nrw",
        "outputId": "1f34767b-8762-4053-d8ed-9c8092efe703"
      },
      "source": [
        "np.concatenate((arr1,arr2),axis=1)"
      ],
      "execution_count": 91,
      "outputs": [
        {
          "output_type": "execute_result",
          "data": {
            "text/plain": [
              "array([[0.25014044, 0.96103718, 0.93944872, 0.4455129 , 0.42014287,\n",
              "        0.52069136, 0.31552449, 0.57794073],\n",
              "       [0.62652699, 0.82727707, 0.5825983 , 0.55727089, 0.7201526 ,\n",
              "        0.75112906, 0.35645699, 0.12847401]])"
            ]
          },
          "metadata": {
            "tags": []
          },
          "execution_count": 91
        }
      ]
    },
    {
      "cell_type": "code",
      "metadata": {
        "colab": {
          "base_uri": "https://localhost:8080/"
        },
        "id": "QU9dIBMR2Shf",
        "outputId": "204a36a3-b84c-48ff-fe7f-dcc97f87eae0"
      },
      "source": [
        "arr3 = np.random.rand(4,4)\n",
        "arr3"
      ],
      "execution_count": 92,
      "outputs": [
        {
          "output_type": "execute_result",
          "data": {
            "text/plain": [
              "array([[0.78892104, 0.18228571, 0.63515118, 0.43581621],\n",
              "       [0.74590584, 0.18270161, 0.40925055, 0.05378985],\n",
              "       [0.78542521, 0.88303831, 0.45854975, 0.76362973],\n",
              "       [0.07920304, 0.59722106, 0.72888743, 0.88647744]])"
            ]
          },
          "metadata": {
            "tags": []
          },
          "execution_count": 92
        }
      ]
    },
    {
      "cell_type": "code",
      "metadata": {
        "colab": {
          "base_uri": "https://localhost:8080/"
        },
        "id": "ZCLW9pXn2i_L",
        "outputId": "8b3dc51f-a7c3-45e7-9ead-ba68728d9a92"
      },
      "source": [
        "np.hsplit(arr3,2)"
      ],
      "execution_count": 94,
      "outputs": [
        {
          "output_type": "execute_result",
          "data": {
            "text/plain": [
              "[array([[0.78892104, 0.18228571],\n",
              "        [0.74590584, 0.18270161],\n",
              "        [0.78542521, 0.88303831],\n",
              "        [0.07920304, 0.59722106]]), array([[0.63515118, 0.43581621],\n",
              "        [0.40925055, 0.05378985],\n",
              "        [0.45854975, 0.76362973],\n",
              "        [0.72888743, 0.88647744]])]"
            ]
          },
          "metadata": {
            "tags": []
          },
          "execution_count": 94
        }
      ]
    },
    {
      "cell_type": "code",
      "metadata": {
        "colab": {
          "base_uri": "https://localhost:8080/"
        },
        "id": "DbjOatFc201I",
        "outputId": "5254c4fd-cf56-4d28-fbd2-1d2f17e6950a"
      },
      "source": [
        "np.vsplit(arr3,2)"
      ],
      "execution_count": 95,
      "outputs": [
        {
          "output_type": "execute_result",
          "data": {
            "text/plain": [
              "[array([[0.78892104, 0.18228571, 0.63515118, 0.43581621],\n",
              "        [0.74590584, 0.18270161, 0.40925055, 0.05378985]]),\n",
              " array([[0.78542521, 0.88303831, 0.45854975, 0.76362973],\n",
              "        [0.07920304, 0.59722106, 0.72888743, 0.88647744]])]"
            ]
          },
          "metadata": {
            "tags": []
          },
          "execution_count": 95
        }
      ]
    }
  ]
}